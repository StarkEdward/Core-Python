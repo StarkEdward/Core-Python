{
 "cells": [
  {
   "cell_type": "markdown",
   "id": "8eebf669",
   "metadata": {},
   "source": [
    "# if elif else statement"
   ]
  },
  {
   "cell_type": "markdown",
   "id": "96159557",
   "metadata": {},
   "source": [
    "if (condition 1):\n",
    "    statement 1\n",
    "elif (condition 2):\n",
    "    statement 2\n",
    "elif (condition 3):\n",
    "    statement 3\n",
    "else:\n",
    "    statment when if and elif(s) are False.\n",
    "\n",
    "Example:-\n"
   ]
  },
  {
   "cell_type": "code",
   "execution_count": 2,
   "id": "1bc4de97",
   "metadata": {},
   "outputs": [
    {
     "name": "stdout",
     "output_type": "stream",
     "text": [
      "Second Division\n"
     ]
    }
   ],
   "source": [
    "per = 55\n",
    "if per > 60:\n",
    "    print(\"First Division\")\n",
    "elif per >= 48:\n",
    "    print(\"Second Division\")\n",
    "elif per >= 35:\n",
    "    print(\"Third Division\")\n",
    "else:\n",
    "    print(\"Fail\")"
   ]
  },
  {
   "cell_type": "code",
   "execution_count": 13,
   "id": "09c41a31",
   "metadata": {},
   "outputs": [
    {
     "name": "stdout",
     "output_type": "stream",
     "text": [
      "Enter Percentage: 80.73\n",
      "A Grade.\n"
     ]
    }
   ],
   "source": [
    "per = float(input(\"Enter Percentage: \"))\n",
    "if per >= 75:\n",
    "    print(\"A Grade.\")\n",
    "elif per >= 60:\n",
    "    print(\"B Grade.\")\n",
    "elif per >= 50:\n",
    "    print(\"C Grade\")\n",
    "elif per >= 35:\n",
    "    print(\"D Grade\")\n",
    "else:\n",
    "    print(\"Your are Fail. Please Study Hard.\")"
   ]
  },
  {
   "cell_type": "markdown",
   "id": "0a8e5dca",
   "metadata": {},
   "source": [
    "##### 1. simple calculator in python.\n"
   ]
  },
  {
   "cell_type": "code",
   "execution_count": 16,
   "id": "e63e8be6",
   "metadata": {},
   "outputs": [
    {
     "name": "stdout",
     "output_type": "stream",
     "text": [
      " \n",
      "+ Add\n",
      "- Substract\n",
      "* multiply\n",
      "/ division\n",
      "// floor division\n",
      "\n",
      "Enter 1st Number: 15.5\n",
      "Enter 2nd Number: 2\n",
      "Enter the Operator..(+, -, *, /, // )/\n",
      "7.75\n"
     ]
    }
   ],
   "source": [
    "print(''' \n",
    "+ Add\n",
    "- Substract\n",
    "* multiply\n",
    "/ division\n",
    "// floor division\n",
    "''')\n",
    "num1 = eval(input(\"Enter 1st Number: \"))\n",
    "num2 = eval(input(\"Enter 2nd Number: \"))\n",
    "opr = input(\"Enter the Operator..(+, -, *, /, // )\")\n",
    "\n",
    "if opr == '+':\n",
    "    result = num1 + num2\n",
    "    print(result)\n",
    "elif opr == '-':\n",
    "    result = num1 - num2\n",
    "    print(result)\n",
    "elif opr == '*':\n",
    "    result = num1 * num2\n",
    "    print(result)\n",
    "elif opr == '/':\n",
    "    result = num1 / num2\n",
    "    print(round(result, 2))\n",
    "elif opr == '//':\n",
    "    result = num1 // num2\n",
    "    print(result)\n",
    "else:\n",
    "    print(\"Invalid Operator...\")"
   ]
  },
  {
   "cell_type": "code",
   "execution_count": 6,
   "id": "e9a2d1a1",
   "metadata": {},
   "outputs": [
    {
     "name": "stdout",
     "output_type": "stream",
     "text": [
      "a is greater than b\n",
      "C is greater than d\n",
      "rest ofthe code.\n"
     ]
    }
   ],
   "source": [
    "a = 5\n",
    "b = 2\n",
    "c = 6\n",
    "d = 3\n",
    "\n",
    "if (a>b):\n",
    "    print(\"a is greater than b\")\n",
    "    if (c > d):\n",
    "        print(\"C is greater than d\")\n",
    "    else:\n",
    "        print(\"d is grater than c\")\n",
    "else:\n",
    "    print(\"b is greater than a\")\n",
    "print(\"rest ofthe code.\")"
   ]
  },
  {
   "cell_type": "code",
   "execution_count": 7,
   "id": "25fc06b0",
   "metadata": {},
   "outputs": [
    {
     "name": "stdout",
     "output_type": "stream",
     "text": [
      "a : 5\n",
      "b : 2\n",
      "c : 4\n",
      "a: 5 is greater than b: 2 \n",
      "and also a:5 is greater than c: 4\n",
      "Outside the nested if-else statement.\n"
     ]
    }
   ],
   "source": [
    "# 2. greater than program of 3 input values.\n",
    "a = int(input(\"a : \"))\n",
    "b = int(input(\"b : \"))\n",
    "c = int(input(\"c : \"))\n",
    "\n",
    "if (a > b):\n",
    "    print(f\"a: {a} is greater than b: {b} \")\n",
    "    if (a > c):\n",
    "        print(f\"and also a:{a} is greater than c: {c}\")\n",
    "    else:\n",
    "        print(f\"and c: {c} is greater than a: {a}\")\n",
    "else:\n",
    "    print(f\"b: {b} is greater than a: {a}\")\n",
    "    if (b > c):\n",
    "        print(f\"and b: {b} is greater than c: {c}\")\n",
    "    else:\n",
    "        print(f\"c: {c} is greater than b: {b}\")\n",
    "print(\"Outside the nested if-else statement.\")"
   ]
  },
  {
   "cell_type": "code",
   "execution_count": 11,
   "id": "c7978d25",
   "metadata": {},
   "outputs": [
    {
     "name": "stdout",
     "output_type": "stream",
     "text": [
      "Enter a number: 5\n",
      "number is Positive.\n"
     ]
    }
   ],
   "source": [
    "# prgram to check number is positive negative or zero using nested if else statemnt.\n",
    "\n",
    "num = int(input(\"Enter a number: \"))\n",
    "if (num >=0):\n",
    "    if (num == 0):\n",
    "        print(\"Zero\")\n",
    "    else:\n",
    "        print(\"number is Positive.\")\n",
    "else:\n",
    "    print(\"Number is Negative.\")"
   ]
  },
  {
   "cell_type": "code",
   "execution_count": null,
   "id": "c3b4f92a",
   "metadata": {},
   "outputs": [],
   "source": []
  }
 ],
 "metadata": {
  "kernelspec": {
   "display_name": "Python 3 (ipykernel)",
   "language": "python",
   "name": "python3"
  },
  "language_info": {
   "codemirror_mode": {
    "name": "ipython",
    "version": 3
   },
   "file_extension": ".py",
   "mimetype": "text/x-python",
   "name": "python",
   "nbconvert_exporter": "python",
   "pygments_lexer": "ipython3",
   "version": "3.10.1"
  }
 },
 "nbformat": 4,
 "nbformat_minor": 5
}
