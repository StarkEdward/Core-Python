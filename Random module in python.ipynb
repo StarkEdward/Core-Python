{
 "cells": [
  {
   "cell_type": "markdown",
   "id": "092b4109",
   "metadata": {},
   "source": [
    "To use the random() function, call the random() method to generate a real (float) number between 0 and 1\n"
   ]
  },
  {
   "cell_type": "code",
   "execution_count": 30,
   "id": "6aaa76f3",
   "metadata": {},
   "outputs": [
    {
     "name": "stdout",
     "output_type": "stream",
     "text": [
      "0.7935688874364295\n"
     ]
    }
   ],
   "source": [
    "import random\n",
    "x = random.random()\n",
    "print(x)"
   ]
  },
  {
   "cell_type": "markdown",
   "id": "06035744",
   "metadata": {},
   "source": [
    "This outputs any number between 0 and 1. For most apps, you will need random integers instead of numbers between 0 and 1."
   ]
  },
  {
   "cell_type": "markdown",
   "id": "26b1ef8d",
   "metadata": {},
   "source": [
    "# Generate random numbers\n",
    "\n",
    "The function randint() generates random integers for you. If you call the function, it returns a random integer N such that a <= N <= b.\n",
    "\n",
    "The randint() method to generates a whole number (integer). You can use randint(0,50) to generate a random number between 0 and 50."
   ]
  },
  {
   "cell_type": "code",
   "execution_count": 32,
   "id": "dd17f46a",
   "metadata": {},
   "outputs": [
    {
     "name": "stdout",
     "output_type": "stream",
     "text": [
      "8\n"
     ]
    }
   ],
   "source": [
    "import random\n",
    "x = random.randint(0,15)\n",
    "print(x)"
   ]
  },
  {
   "cell_type": "markdown",
   "id": "35d073d2",
   "metadata": {},
   "source": [
    "To generate random integers between 0 and 9, you can use the function randrange(min,max)."
   ]
  },
  {
   "cell_type": "code",
   "execution_count": 34,
   "id": "a4755444",
   "metadata": {},
   "outputs": [
    {
     "name": "stdout",
     "output_type": "stream",
     "text": [
      "2\n"
     ]
    }
   ],
   "source": [
    "from random import randrange\n",
    "x = random.randrange(10)\n",
    "print(x)"
   ]
  },
  {
   "cell_type": "markdown",
   "id": "66d0b58e",
   "metadata": {},
   "source": [
    "You can use randint(min,max) instead:"
   ]
  },
  {
   "cell_type": "code",
   "execution_count": 40,
   "id": "74857725",
   "metadata": {},
   "outputs": [
    {
     "name": "stdout",
     "output_type": "stream",
     "text": [
      "25\n"
     ]
    }
   ],
   "source": [
    "import random\n",
    "x = random.randint(0,30)\n",
    "print(x)"
   ]
  },
  {
   "cell_type": "markdown",
   "id": "c4ee4d9b",
   "metadata": {},
   "source": [
    "Change the parameters of randint() to generate a number between 1 and 10."
   ]
  },
  {
   "cell_type": "code",
   "execution_count": 41,
   "id": "3e8b8361",
   "metadata": {},
   "outputs": [
    {
     "name": "stdout",
     "output_type": "stream",
     "text": [
      "8\n"
     ]
    }
   ],
   "source": [
    "import random\n",
    "x = random.randint(1, 9)\n",
    "print(x)"
   ]
  },
  {
   "cell_type": "markdown",
   "id": "806e91bf",
   "metadata": {},
   "source": [
    "### List of random numbers\n",
    "\n",
    "If you want to generate a list of random number, you can do so by using a for loop.\n",
    "To generate a list of 20 random numbers:"
   ]
  },
  {
   "cell_type": "code",
   "execution_count": 56,
   "id": "0381ac9d",
   "metadata": {},
   "outputs": [
    {
     "name": "stdout",
     "output_type": "stream",
     "text": [
      "[15, 19, 15, 10, 5, 13, 10, 0, 20, 20, 12, 4, 7, 6, 13, 10, 14, 16, 6]\n"
     ]
    }
   ],
   "source": [
    "import random\n",
    "\n",
    "my_list= []\n",
    "\n",
    "for i in range (1, 20):\n",
    "    x= random.randint(0,20)\n",
    "    my_list.append(x)\n",
    "print(my_list)"
   ]
  },
  {
   "cell_type": "markdown",
   "id": "36391fc5",
   "metadata": {},
   "source": [
    "But this can be done in a much more compact way in Python, with a one liner.\n",
    "The function to use is sample() which shuffles the input list, in the example below it shuffles the created list range(0, 20)."
   ]
  },
  {
   "cell_type": "code",
   "execution_count": 68,
   "id": "b75877fd",
   "metadata": {},
   "outputs": [
    {
     "name": "stdout",
     "output_type": "stream",
     "text": [
      "[15, 2, 18, 16, 11, 19, 7, 9, 4, 0, 10, 1, 8, 6, 12, 5, 13, 14, 17, 3]\n"
     ]
    }
   ],
   "source": [
    "import random\n",
    "x = []\n",
    "x = random.sample(range(20), 20)\n",
    "print(x)"
   ]
  },
  {
   "cell_type": "markdown",
   "id": "47a8b69d",
   "metadata": {},
   "source": [
    "#### Choosing random items from a list\n",
    "\n",
    "You can use the sample() method to put the list in a random order. But you can also use it get random items from a list.\n",
    "\n",
    "If you want 3 random items from the list, you add 3 as second parameter of the sample(list) method.\n"
   ]
  },
  {
   "cell_type": "code",
   "execution_count": 76,
   "id": "d888d332",
   "metadata": {},
   "outputs": [
    {
     "name": "stdout",
     "output_type": "stream",
     "text": [
      "mylist: [1, 2, 3, 4, 5, 6, 7, 8, 9, 10, 11, 12, 13, 14, 15, 16, 17]\n",
      "My random 3 number from above list are: [2, 7, 3]\n"
     ]
    }
   ],
   "source": [
    "import random\n",
    "\n",
    "mylist = [1, 2, 3, 4, 5, 6, 7, 8, 9, 10, 11, 12, 13, 14, 15, 16, 17]\n",
    "print(\"mylist:\", mylist)\n",
    "x = random.sample(mylist, 3)\n",
    "print(\"My random 3 number from above list are:\", x)\n",
    "# print(\"my random 3 numbers from above list are :\", random.sample(mylist, 3))"
   ]
  },
  {
   "cell_type": "markdown",
   "id": "b67d1841",
   "metadata": {},
   "source": [
    "If you want to pick a random item, you can use the choice(list) method. But this returns only one element."
   ]
  },
  {
   "cell_type": "code",
   "execution_count": 85,
   "id": "6f74136e",
   "metadata": {},
   "outputs": [
    {
     "name": "stdout",
     "output_type": "stream",
     "text": [
      "77\n"
     ]
    }
   ],
   "source": [
    "# without using extra variable\n",
    "import random\n",
    "x = list(range(0,100))\n",
    "print(random.choice(x))"
   ]
  },
  {
   "cell_type": "code",
   "execution_count": 86,
   "id": "b7a7887a",
   "metadata": {},
   "outputs": [
    {
     "name": "stdout",
     "output_type": "stream",
     "text": [
      "6\n"
     ]
    }
   ],
   "source": [
    "# using extra variable \n",
    "import random\n",
    "x = list(range(0,100))\n",
    "y = random.choice(x)\n",
    "print(y)"
   ]
  },
  {
   "cell_type": "code",
   "execution_count": 144,
   "id": "7d8f3064",
   "metadata": {},
   "outputs": [
    {
     "name": "stdout",
     "output_type": "stream",
     "text": [
      "X2\n"
     ]
    }
   ],
   "source": [
    "# select random character from string.\n",
    "import random\n",
    "x = \"ABCDEFGHIJKLMNOPQRSTUVWXYZ\"\n",
    "y = \"0123456789\"\n",
    "x = random.choice(x)\n",
    "y = random.choice(y)\n",
    "z = x + y\n",
    "print(z)"
   ]
  },
  {
   "cell_type": "code",
   "execution_count": 145,
   "id": "d6ba4d10",
   "metadata": {},
   "outputs": [
    {
     "name": "stdout",
     "output_type": "stream",
     "text": [
      "3\n",
      "e\n",
      "3\n"
     ]
    }
   ],
   "source": [
    "# Python3 program to demonstrate the use of\n",
    "# choice() method\n",
    "  \n",
    "# import random\n",
    "import random\n",
    "  \n",
    "# prints a random value from the list\n",
    "list1 = [1, 2, 3, 4, 5, 6]\n",
    "print(random.choice(list1))\n",
    "  \n",
    "# prints a random item from the string\n",
    "string = \"geeks\"\n",
    "print(random.choice(string))\n",
    "  \n",
    "# prints a random item from the tuple\n",
    "tuple1 = (1, 2, 3, 4, 5)\n",
    "print(random.choice(tuple1))"
   ]
  },
  {
   "cell_type": "markdown",
   "id": "2c4c88e6",
   "metadata": {},
   "source": [
    "You can use the method shuffle(list) to shuffle the list order and then use the first index as random number."
   ]
  },
  {
   "cell_type": "code",
   "execution_count": 92,
   "id": "cf504bab",
   "metadata": {},
   "outputs": [
    {
     "name": "stdout",
     "output_type": "stream",
     "text": [
      "None\n"
     ]
    }
   ],
   "source": [
    "import random\n",
    "x = list(range(0, 100))\n",
    "y = random.shuffle(x)\n",
    "print(y)"
   ]
  },
  {
   "cell_type": "code",
   "execution_count": 152,
   "id": "5883cb03",
   "metadata": {},
   "outputs": [
    {
     "name": "stdout",
     "output_type": "stream",
     "text": [
      "orignal list:\n",
      "[1, 2, 3, 4, 5, 6, 7, 8, 9]\n",
      "\n",
      "After the first shuffle:\n",
      "[7, 8, 5, 9, 4, 6, 2, 1, 3]\n",
      "\n",
      "After the second shuffle:\n",
      "[6, 1, 7, 9, 4, 5, 3, 8, 2]\n"
     ]
    }
   ],
   "source": [
    "# Shuffling a list\n",
    "import random\n",
    "\n",
    "#declare a list\n",
    "sample_list = [1, 2, 3, 4, 5, 6, 7, 8, 9]\n",
    "print(f\"orignal list:\\n{sample_list}\")\n",
    "\n",
    "#first shuffle.\n",
    "random.shuffle(sample_list)\n",
    "print(f\"\\nAfter the first shuffle:\\n{sample_list}\")\n",
    "\n",
    "#second shuffle.\n",
    "random.shuffle(sample_list)\n",
    "print(f\"\\nAfter the second shuffle:\\n{sample_list}\")"
   ]
  },
  {
   "cell_type": "code",
   "execution_count": null,
   "id": "8d3c4e64",
   "metadata": {},
   "outputs": [],
   "source": []
  }
 ],
 "metadata": {
  "kernelspec": {
   "display_name": "Python 3 (ipykernel)",
   "language": "python",
   "name": "python3"
  },
  "language_info": {
   "codemirror_mode": {
    "name": "ipython",
    "version": 3
   },
   "file_extension": ".py",
   "mimetype": "text/x-python",
   "name": "python",
   "nbconvert_exporter": "python",
   "pygments_lexer": "ipython3",
   "version": "3.10.1"
  }
 },
 "nbformat": 4,
 "nbformat_minor": 5
}
